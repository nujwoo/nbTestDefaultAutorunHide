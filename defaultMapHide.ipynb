{
 "cells": [
  {
   "cell_type": "code",
   "execution_count": 9,
   "id": "14373a6f-0b04-464d-a735-78666155d328",
   "metadata": {
    "autorun": true,
    "tags": []
   },
   "outputs": [
    {
     "data": {
      "text/plain": [
       "'3.9.13 | packaged by conda-forge | (main, May 27 2022, 16:56:21) \\n[GCC 10.3.0]'"
      ]
     },
     "execution_count": 9,
     "metadata": {},
     "output_type": "execute_result"
    }
   ],
   "source": [
    "import sys\n",
    "sys.version"
   ]
  },
  {
   "cell_type": "code",
   "execution_count": 10,
   "id": "aaae7a99-8f25-4f8b-ac34-c63d4a716cb1",
   "metadata": {
    "autorun": true,
    "tags": []
   },
   "outputs": [
    {
     "data": {
      "text/html": [
       "<script>\n",
       "code_show=true; \n",
       "function code_toggle() {\n",
       "    if (code_show){\n",
       "        var blocks = document.getElementsByClassName(\"jp-Cell-inputWrapper\");\n",
       "        for(var i = 0; i < blocks.length; i++){\n",
       "            blocks[i].style.display = 'none';\n",
       "        }\n",
       "    } else {\n",
       "        var blocks = document.getElementsByClassName(\"jp-Cell-inputWrapper\");\n",
       "        for(var i = 0; i < blocks.length; i++){\n",
       "            blocks[i].style.display = '';\n",
       "        }\n",
       "    }\n",
       "    code_show = !code_show\n",
       "} \n",
       "code_toggle();\n",
       "</script>\n"
      ],
      "text/plain": [
       "<IPython.core.display.HTML object>"
      ]
     },
     "execution_count": 10,
     "metadata": {},
     "output_type": "execute_result"
    }
   ],
   "source": [
    "from IPython.display import HTML\n",
    "\n",
    "HTML('''<script>\n",
    "code_show=true; \n",
    "function code_toggle() {\n",
    "    if (code_show){\n",
    "        var blocks = document.getElementsByClassName(\"jp-Cell-inputWrapper\");\n",
    "        for(var i = 0; i < blocks.length; i++){\n",
    "            blocks[i].style.display = 'none';\n",
    "        }\n",
    "    } else {\n",
    "        var blocks = document.getElementsByClassName(\"jp-Cell-inputWrapper\");\n",
    "        for(var i = 0; i < blocks.length; i++){\n",
    "            blocks[i].style.display = '';\n",
    "        }\n",
    "    }\n",
    "    code_show = !code_show\n",
    "} \n",
    "code_toggle();\n",
    "</script>\n",
    "''')"
   ]
  },
  {
   "cell_type": "markdown",
   "id": "4b649b65-7e25-4b86-8f61-ce75d609621a",
   "metadata": {},
   "source": [
    "# Try Autorun"
   ]
  },
  {
   "cell_type": "code",
   "execution_count": 11,
   "id": "c474dbba-6512-46e7-b611-f986a969b6a4",
   "metadata": {
    "autorun": true,
    "tags": []
   },
   "outputs": [
    {
     "name": "stdout",
     "output_type": "stream",
     "text": [
      "ABC\n"
     ]
    }
   ],
   "source": [
    "import sys\n",
    "import ipyleaflet\n",
    "print(\"ABC\")"
   ]
  },
  {
   "cell_type": "code",
   "execution_count": 12,
   "id": "a9ba51d7-ff82-454b-8586-4b8132d53e53",
   "metadata": {
    "autorun": true,
    "tags": []
   },
   "outputs": [
    {
     "data": {
      "application/vnd.jupyter.widget-view+json": {
       "model_id": "2c70670352bd47bfa52afa40b870cbc6",
       "version_major": 2,
       "version_minor": 0
      },
      "text/plain": [
       "Map(center=[48.204793, 350.121558], controls=(ZoomControl(options=['position', 'zoom_in_text', 'zoom_in_title'…"
      ]
     },
     "metadata": {},
     "output_type": "display_data"
    }
   ],
   "source": [
    "from ipyleaflet import Map, basemaps, basemap_to_tiles\n",
    "\n",
    "m = Map(\n",
    "    basemap=basemap_to_tiles(basemaps.OpenStreetMap.Mapnik),\n",
    "    center=(48.204793, 350.121558),\n",
    "    zoom=3\n",
    "    )\n",
    "m"
   ]
  },
  {
   "cell_type": "code",
   "execution_count": null,
   "id": "162422f7-d9a2-4801-996d-06ec37dec016",
   "metadata": {},
   "outputs": [],
   "source": []
  }
 ],
 "metadata": {
  "kernelspec": {
   "display_name": "Python 3 (ipykernel)",
   "language": "python",
   "name": "python3"
  },
  "language_info": {
   "codemirror_mode": {
    "name": "ipython",
    "version": 3
   },
   "file_extension": ".py",
   "mimetype": "text/x-python",
   "name": "python",
   "nbconvert_exporter": "python",
   "pygments_lexer": "ipython3",
   "version": "3.9.13"
  }
 },
 "nbformat": 4,
 "nbformat_minor": 5
}
